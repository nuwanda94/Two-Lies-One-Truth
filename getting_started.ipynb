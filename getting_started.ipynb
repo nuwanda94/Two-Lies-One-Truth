{
 "cells": [
  {
   "cell_type": "markdown",
   "metadata": {},
   "source": [
    "# Run An AI Web App With OpenAI's CLIP Model\n",
    "\n",
    "Follow instructions: https://lightning.ai/lightning-ai/studios/quest-1-run-an-ai-web-app-with-openai-s-clip-model"
   ]
  }
 ],
 "metadata": {
  "kernelspec": {
   "display_name": "cloudspace",
   "language": "python",
   "name": "python3"
  },
  "language_info": {
   "name": "python",
   "version": "3.10.10"
  }
 },
 "nbformat": 4,
 "nbformat_minor": 2
}
